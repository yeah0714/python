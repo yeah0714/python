{
 "cells": [
  {
   "cell_type": "markdown",
   "id": "apparent-galaxy",
   "metadata": {},
   "source": [
    "### Chap6\n",
    "os套件：用來處理文件與目錄，與檔案相關操作"
   ]
  },
  {
   "cell_type": "code",
   "execution_count": null,
   "id": "stopped-cowboy",
   "metadata": {},
   "outputs": [],
   "source": [
    "import os\n",
    "print(os.getcwd()) #顯示目前所在的工作目錄"
   ]
  },
  {
   "cell_type": "code",
   "execution_count": 2,
   "id": "heavy-walnut",
   "metadata": {},
   "outputs": [
    {
     "data": {
      "text/plain": [
       "['environment.yml',\n",
       " 'Untitled.ipynb',\n",
       " '0507ch4.ipynb',\n",
       " '0507ch5.ipynb',\n",
       " '.ipynb_checkpoints',\n",
       " 'Index.ipynb',\n",
       " 'apt.txt']"
      ]
     },
     "execution_count": 2,
     "metadata": {},
     "output_type": "execute_result"
    }
   ],
   "source": [
    "#顯示目錄下的檔案\n",
    "os.listdir(\".\")"
   ]
  },
  {
   "cell_type": "code",
   "execution_count": 3,
   "id": "outstanding-large",
   "metadata": {},
   "outputs": [
    {
     "data": {
      "text/plain": [
       "['environment.yml',\n",
       " 'test',\n",
       " 'Untitled.ipynb',\n",
       " '0507ch4.ipynb',\n",
       " '0507ch5.ipynb',\n",
       " '.ipynb_checkpoints',\n",
       " 'Index.ipynb',\n",
       " 'apt.txt']"
      ]
     },
     "execution_count": 3,
     "metadata": {},
     "output_type": "execute_result"
    }
   ],
   "source": [
    "#新增目錄\n",
    "os.makedirs(\"test\")\n",
    "os.listdir(\".\")"
   ]
  },
  {
   "cell_type": "code",
   "execution_count": 4,
   "id": "acceptable-trailer",
   "metadata": {},
   "outputs": [
    {
     "data": {
      "text/plain": [
       "['environment.yml',\n",
       " 'Untitled.ipynb',\n",
       " '0507ch4.ipynb',\n",
       " '0507ch5.ipynb',\n",
       " '.ipynb_checkpoints',\n",
       " 'Index.ipynb',\n",
       " 'apt.txt']"
      ]
     },
     "execution_count": 4,
     "metadata": {},
     "output_type": "execute_result"
    }
   ],
   "source": [
    "#移除目錄\n",
    "os.rmdir(\"test\")\n",
    "os.listdir(\".\")"
   ]
  },
  {
   "cell_type": "markdown",
   "id": "posted-geology",
   "metadata": {},
   "source": [
    "### 檔案處理\n",
    "### os套件有自己的檔案處理命令，而比較常用的是python內建的open\n",
    "\n",
    "### w = 可寫(預設建立檔案) 若檔案存在則會清除舊檔案\n",
    "### w+ = 可寫可讀(預設建立檔案) 若檔案存在則會清除舊檔案\n",
    "### r = 可讀\n",
    "### r+ = 可寫可讀 但寫入資料指向開頭\n",
    "### a = 可寫不能讀 寫入資料指向尾端\n",
    "### a+ = 可寫可讀 寫入資料指向尾端\n",
    "### b = 轉為2進位文件\n",
    "### ab+ = 2進位文件的讀寫 寫入資料指向尾端"
   ]
  },
  {
   "cell_type": "markdown",
   "id": "revised-nevada",
   "metadata": {},
   "source": [
    "\n",
    "新增檔案"
   ]
  },
  {
   "cell_type": "code",
   "execution_count": null,
   "id": "collective-newsletter",
   "metadata": {},
   "outputs": [],
   "source": [
    "a=open(\"a.txt\",\"w\") #新增檔案\n",
    "a.write(\"This is a test1\")\n",
    "a.write(\"This is a test2\\n\")\n",
    "a.write(\"This is a test3\\n\")\n",
    "a.close() #關閉檔案"
   ]
  },
  {
   "cell_type": "markdown",
   "id": "seasonal-catalog",
   "metadata": {},
   "source": [
    "檢查檔案是否存在"
   ]
  },
  {
   "cell_type": "code",
   "execution_count": null,
   "id": "japanese-saturn",
   "metadata": {},
   "outputs": [],
   "source": [
    "os.path.isfile(\"a.txt\")"
   ]
  },
  {
   "cell_type": "markdown",
   "id": "applicable-governor",
   "metadata": {},
   "source": [
    "讀取檔案"
   ]
  },
  {
   "cell_type": "code",
   "execution_count": null,
   "id": "lasting-scope",
   "metadata": {},
   "outputs": [],
   "source": [
    "a=open(\"a.txt\",\"r\")\n",
    "print(a.readline())\n",
    "print(a.readline())\n",
    "print(a.readline()) #多餘的命令，檔案只有2行\n",
    "a.close()"
   ]
  },
  {
   "cell_type": "code",
   "execution_count": null,
   "id": "terminal-ivory",
   "metadata": {},
   "outputs": [],
   "source": [
    "a=open(\"a.txt\",\"r\")\n",
    "print(a.readlines())  #一次讀取多行，與a.read()命令相同\n",
    "a.close()"
   ]
  },
  {
   "cell_type": "code",
   "execution_count": 5,
   "id": "hired-gross",
   "metadata": {},
   "outputs": [
    {
     "name": "stdout",
     "output_type": "stream",
     "text": [
      "檔案不存在\n"
     ]
    }
   ],
   "source": [
    "#加上檔案是否存在的判斷\n",
    "if os.path.isfile(\"a.txt\"):\n",
    "    a=open(\"a.txt\",\"r\")\n",
    "    print(a.readlines())\n",
    "    a.close()\n",
    "else:\n",
    "    print(\"檔案不存在\")"
   ]
  },
  {
   "cell_type": "markdown",
   "id": "downtown-seminar",
   "metadata": {},
   "source": [
    "split函式"
   ]
  },
  {
   "cell_type": "code",
   "execution_count": null,
   "id": "generic-formation",
   "metadata": {},
   "outputs": [],
   "source": [
    "if os.path.isfile(\"a.txt\"):\n",
    "    a=open(\"a.txt\",\"r\")\n",
    "    for line in a:\n",
    "        fields=line.split(\" \") #以空白為切割欄位\n",
    "        print(fields)\n",
    "    a.close()\n",
    "else:\n",
    "    print(\"檔案不存在\")"
   ]
  },
  {
   "cell_type": "markdown",
   "id": "hundred-generator",
   "metadata": {},
   "source": [
    "附加檔案"
   ]
  },
  {
   "cell_type": "code",
   "execution_count": null,
   "id": "spread-peninsula",
   "metadata": {},
   "outputs": [],
   "source": [
    "a=open(\"a.txt\", \"a\")\n",
    "a.write(\"This is test4\\n\")\n",
    "a.close()"
   ]
  },
  {
   "cell_type": "code",
   "execution_count": null,
   "id": "interracial-devil",
   "metadata": {},
   "outputs": [],
   "source": [
    "a=open(\"a.txt\",\"r\")\n",
    "print(a.readlines())\n",
    "a.close()"
   ]
  },
  {
   "cell_type": "markdown",
   "id": "supposed-welsh",
   "metadata": {},
   "source": [
    "比較a與r+的不同\n",
    "## a寫在檔案的結尾\n",
    "## r+寫在檔案的開頭"
   ]
  },
  {
   "cell_type": "code",
   "execution_count": null,
   "id": "civilian-relevance",
   "metadata": {},
   "outputs": [],
   "source": [
    "a=open(\"a.txt\",\"r+\")\n",
    "a.write(\"This is a test5\\n\")\n",
    "a.close()"
   ]
  },
  {
   "cell_type": "code",
   "execution_count": null,
   "id": "focal-allen",
   "metadata": {},
   "outputs": [],
   "source": [
    "a=open(\"a.txt\",\"r\")\n",
    "print(a.readlines())\n",
    "a.close()"
   ]
  },
  {
   "cell_type": "markdown",
   "id": "closing-phoenix",
   "metadata": {},
   "source": [
    "刪除檔案"
   ]
  },
  {
   "cell_type": "code",
   "execution_count": 6,
   "id": "confident-there",
   "metadata": {},
   "outputs": [
    {
     "name": "stdout",
     "output_type": "stream",
     "text": [
      "找不到檔案\n",
      "False\n"
     ]
    }
   ],
   "source": [
    "if os.path.isfile(\"a.txt\"):\n",
    "    os.remove(\"a.txt\")\n",
    "    print(\"檔案刪除成功\")\n",
    "else:\n",
    "    print(\"找不到檔案\")\n",
    "print(os.path.isfile(\"a.txt\"))"
   ]
  },
  {
   "cell_type": "code",
   "execution_count": null,
   "id": "silent-rhythm",
   "metadata": {},
   "outputs": [],
   "source": []
  }
 ],
 "metadata": {
  "kernelspec": {
   "display_name": "Python 3",
   "language": "python",
   "name": "python3"
  },
  "language_info": {
   "codemirror_mode": {
    "name": "ipython",
    "version": 3
   },
   "file_extension": ".py",
   "mimetype": "text/x-python",
   "name": "python",
   "nbconvert_exporter": "python",
   "pygments_lexer": "ipython3",
   "version": "3.6.13"
  }
 },
 "nbformat": 4,
 "nbformat_minor": 5
}
