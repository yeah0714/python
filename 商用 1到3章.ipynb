{
 "cells": [
  {
   "cell_type": "markdown",
   "metadata": {},
   "source": [
    "# Chap 1 運算式\n",
    "## 註解"
   ]
  },
  {
   "cell_type": "code",
   "execution_count": null,
   "metadata": {},
   "outputs": [],
   "source": [
    "'''\n",
    "註解1\n",
    "註解2\n",
    "註解3\n",
    "'''\n",
    "a=2 #註解\n",
    "b=6\n",
    "print(a-b)"
   ]
  },
  {
   "cell_type": "code",
   "execution_count": null,
   "metadata": {},
   "outputs": [],
   "source": [
    "#變數交換\n",
    "x=1\n",
    "y=5\n",
    "\n",
    "x=z\n",
    "y=x\n",
    "x=y\n",
    "\n",
    "\n",
    "print(x)\n",
    "print(y)"
   ]
  },
  {
   "cell_type": "code",
   "execution_count": null,
   "metadata": {},
   "outputs": [],
   "source": [
    "#python變數交換\n",
    "z=1\n",
    "x=10\n",
    "z,x=x,z\n",
    "print(z)\n",
    "print(x)"
   ]
  },
  {
   "cell_type": "code",
   "execution_count": null,
   "metadata": {},
   "outputs": [],
   "source": [
    "#平行設計\n",
    "x,y,z=3,4,5\n",
    "print(x)\n",
    "print(y)\n",
    "print(z)"
   ]
  },
  {
   "cell_type": "code",
   "execution_count": null,
   "metadata": {},
   "outputs": [],
   "source": [
    "x,y,z=3,4,5\n",
    "x+=1  #x=x+1\n",
    "y*=2  #y=y*2\n",
    "z**=3 #z=z^3\n",
    "print(x,y,z)"
   ]
  },
  {
   "cell_type": "markdown",
   "metadata": {},
   "source": [
    "# 變數的應用\n",
    "## Q:邊長為3,4,5的三角形，其面積大小為何\n",
    "### 海龍公式\n",
    "#### s=(a+b+c)/2\n",
    "##### sqrt(s(s-a)(s-b)(s-c))"
   ]
  },
  {
   "cell_type": "code",
   "execution_count": null,
   "metadata": {},
   "outputs": [],
   "source": [
    "import math\n",
    "a,b,c=3,4,5\n",
    "s=(a+b+c)/2\n",
    "d=math.sqrt(s*(s-a)*(s-b)*(s-c))\n",
    "print(d)"
   ]
  },
  {
   "cell_type": "markdown",
   "metadata": {},
   "source": [
    "半徑為10的三角形，其面積大小為何"
   ]
  },
  {
   "cell_type": "code",
   "execution_count": null,
   "metadata": {},
   "outputs": [],
   "source": [
    "import math\n",
    "r=10\n",
    "print(r*r*math.pi)"
   ]
  },
  {
   "cell_type": "markdown",
   "metadata": {},
   "source": [
    "## 資料型別\n",
    "python屬於動態類型變數，使用時不需宣告資料型別"
   ]
  },
  {
   "cell_type": "code",
   "execution_count": null,
   "metadata": {},
   "outputs": [],
   "source": [
    "x=234\n",
    "print(type(x))\n",
    "y=2.34\n",
    "print(type(y))\n",
    "z=\"sss\"\n",
    "print(type(z))"
   ]
  },
  {
   "cell_type": "markdown",
   "metadata": {},
   "source": [
    "### 關係比較"
   ]
  },
  {
   "cell_type": "code",
   "execution_count": null,
   "metadata": {},
   "outputs": [],
   "source": [
    "print(10==10)\n",
    "x,y=10,20\n",
    "print(x==y)   # == 關係比較\n",
    "x=y           # = 指派值\n",
    "print(x)"
   ]
  },
  {
   "cell_type": "markdown",
   "metadata": {},
   "source": [
    "### 關係運算，以閏年為例"
   ]
  },
  {
   "cell_type": "code",
   "execution_count": null,
   "metadata": {},
   "outputs": [],
   "source": [
    "y=2010\n",
    "print(y%4==0 and y%100!=0 or y%400==0)\n",
    "y=2012\n",
    "print(y%4==0 and y%100!=0 or y%400==0)\n",
    "y=2016\n",
    "print(y%4==0 and y%100!=0 or y%400==0)\n",
    "y=2018\n",
    "print(y%4==0 and y%100!=0 or y%400==0)"
   ]
  },
  {
   "cell_type": "markdown",
   "metadata": {},
   "source": [
    "## 型態轉換"
   ]
  },
  {
   "cell_type": "code",
   "execution_count": null,
   "metadata": {},
   "outputs": [],
   "source": [
    "x='must'\n",
    "print(10*x)\n",
    "print(\"10\"+x)"
   ]
  },
  {
   "cell_type": "code",
   "execution_count": null,
   "metadata": {},
   "outputs": [],
   "source": [
    "x=5\n",
    "print(type(x))\n",
    "y=x+0.5\n",
    "print(type(y))\n",
    "print(int(\"132\"))\n",
    "print(int(132.22))\n",
    "print(int(float(\"132.22\")))"
   ]
  },
  {
   "cell_type": "code",
   "execution_count": null,
   "metadata": {},
   "outputs": [],
   "source": [
    "# 字串的轉換\n",
    "x=10*2.5\n",
    "y=200*200\n",
    "s=\"The value of x is \" + str(x) + ' and y is ' + str(y)\n",
    "print(s)\n",
    "print(\"The value of x is\" ,x, \"and y is\",y)\n",
    "print(\"The value of x is {} and y is {}\".format(x,y))"
   ]
  },
  {
   "cell_type": "markdown",
   "metadata": {},
   "source": [
    "## 非內建模組"
   ]
  },
  {
   "cell_type": "code",
   "execution_count": null,
   "metadata": {},
   "outputs": [],
   "source": [
    "import math\n",
    "print(math.pi)\n",
    "print(math.pow(2,3))\n",
    "print(8.3*10.88*math.sin(37.0/180*math.pi)/2)\n",
    "print(math.sqrt(25))"
   ]
  },
  {
   "cell_type": "markdown",
   "metadata": {},
   "source": [
    "### 範例:算圓面積"
   ]
  },
  {
   "cell_type": "code",
   "execution_count": null,
   "metadata": {},
   "outputs": [],
   "source": [
    "import math\n",
    "r=input(\"輸入圓半徑\")\n",
    "area=float(r)*float(r)*math.pi\n",
    "print(\"面積為:\",area)"
   ]
  },
  {
   "cell_type": "markdown",
   "metadata": {},
   "source": [
    "### 應用:算矩型面積"
   ]
  },
  {
   "cell_type": "code",
   "execution_count": null,
   "metadata": {},
   "outputs": [],
   "source": [
    "w=input(\"輸入長:\")\n",
    "l=input(\"輸入寬:\")\n",
    "area=float(w)*float(l)"
   ]
  },
  {
   "cell_type": "markdown",
   "metadata": {},
   "source": [
    "# Ch2 流程控制\n",
    "## else ,elif(else if)"
   ]
  },
  {
   "cell_type": "code",
   "execution_count": null,
   "metadata": {
    "scrolled": true
   },
   "outputs": [],
   "source": [
    "a=1\n",
    "b=3\n",
    "if a <= b:\n",
    "    print(\"B較大\")\n",
    "else :\n",
    "    print(\"A較大\")"
   ]
  },
  {
   "cell_type": "markdown",
   "metadata": {},
   "source": [
    " 成績判斷"
   ]
  },
  {
   "cell_type": "code",
   "execution_count": null,
   "metadata": {},
   "outputs": [],
   "source": [
    "gd=78\n",
    "print(\"成績評鑑:\")\n",
    "if gd>=90:\n",
    "    print(\"A\")\n",
    "elif gd>=80:\n",
    "    print(\"B\")\n",
    "elif gd>=70:\n",
    "    print(\"C\")\n",
    "elif gd>=60:\n",
    "    print(\"D\")\n",
    "elif gd>50:\n",
    "    print(\"E\")"
   ]
  },
  {
   "cell_type": "code",
   "execution_count": null,
   "metadata": {},
   "outputs": [],
   "source": [
    "# 1+2+3+..+10=\n",
    "sum=0\n",
    "for count in range(1, 11, 1): #1~10 間隔1 \n",
    "     sum += count\n",
    "print(\"1+2+3+..+10=\", sum)"
   ]
  },
  {
   "cell_type": "code",
   "execution_count": null,
   "metadata": {},
   "outputs": [],
   "source": [
    "# 1+2+3+..+10=\n",
    "sum=0\n",
    "for count in range(11): #1~10 間隔1 \n",
    "    sum += count\n",
    "print(\"1+2+3+..+10=\", sum)"
   ]
  },
  {
   "cell_type": "code",
   "execution_count": null,
   "metadata": {},
   "outputs": [],
   "source": [
    "mylist=\"SKRRR\"\n",
    "for c in mylist:\n",
    "    print(c)"
   ]
  },
  {
   "cell_type": "code",
   "execution_count": null,
   "metadata": {},
   "outputs": [],
   "source": [
    "for pl in [\"JAVA\",\"C#\",\"PYTHON\"]:\n",
    "    print(pl)"
   ]
  },
  {
   "cell_type": "markdown",
   "metadata": {},
   "source": [
    "雞兔同籠，有35頭、94隻腳，有多少雞兔"
   ]
  },
  {
   "cell_type": "code",
   "execution_count": null,
   "metadata": {},
   "outputs": [],
   "source": [
    "for chick in range(0,36):\n",
    "    rabb=35-chick\n",
    "    if(2*chick+4*rabb) ==94:\n",
    "        print(\"雞有:\",chick,\"兔有:\",rabb)\n",
    "        break\n",
    "else:\n",
    "    print(\"無解\")"
   ]
  },
  {
   "cell_type": "code",
   "execution_count": null,
   "metadata": {},
   "outputs": [],
   "source": [
    "sum=0\n",
    "cou=1\n",
    "while cou <=10:\n",
    "    sum += cou\n",
    "    cou += 1\n",
    "print(\"1+~10=\",sum)\n"
   ]
  },
  {
   "cell_type": "markdown",
   "metadata": {},
   "source": [
    "本金10000元，定存年利率0.6%，請問多久銀行存款會翻倍"
   ]
  },
  {
   "cell_type": "code",
   "execution_count": null,
   "metadata": {},
   "outputs": [],
   "source": [
    "x=10000\n",
    "years=0\n",
    "while x <= 20000:\n",
    "    x=x*1.006\n",
    "    years +=1\n",
    "print(str(years),\"年後加倍 $\",int(x))"
   ]
  },
  {
   "cell_type": "markdown",
   "metadata": {},
   "source": [
    "### 帳密判別"
   ]
  },
  {
   "cell_type": "code",
   "execution_count": null,
   "metadata": {},
   "outputs": [],
   "source": [
    "id=\"asdf\"\n",
    "pwd=\"zxcv\"\n",
    "while True:\n",
    "    x=input(\"輸入帳號:\")\n",
    "    y=input(\"輸入密碼:\")\n",
    "    if(x==id and y==pwd):\n",
    "        print(\"歡迎登入\")\n",
    "        break\n",
    "    else:\n",
    "        print(\"error\")"
   ]
  },
  {
   "cell_type": "code",
   "execution_count": null,
   "metadata": {},
   "outputs": [],
   "source": [
    "import random\n",
    "for i in range(0,10):\n",
    "    print(random.randint(1,9))"
   ]
  },
  {
   "cell_type": "markdown",
   "metadata": {},
   "source": [
    "### 猜數字"
   ]
  },
  {
   "cell_type": "code",
   "execution_count": null,
   "metadata": {},
   "outputs": [],
   "source": [
    "import random\n",
    "number=random.randint(1,20)\n",
    "while True:\n",
    "    guess=int(input(\"輸入1~20數字\"))\n",
    "    if guess == number:\n",
    "        print(\"BINGO\",number)\n",
    "        break\n",
    "    else:\n",
    "        print(\"ERROR\")"
   ]
  },
  {
   "cell_type": "markdown",
   "metadata": {},
   "source": [
    "# Python物件\n",
    "## List(串列)Turple(元組)Dictionary(字典)Sets(集合)"
   ]
  },
  {
   "cell_type": "markdown",
   "metadata": {},
   "source": [
    "## List[串列]\n",
    "使用中括號[]包裹元素"
   ]
  },
  {
   "cell_type": "code",
   "execution_count": null,
   "metadata": {},
   "outputs": [],
   "source": [
    "expenese= [100,111,251,953,2027]\n",
    "print(sum(expenese))"
   ]
  },
  {
   "cell_type": "code",
   "execution_count": 1,
   "metadata": {},
   "outputs": [
    {
     "name": "stdout",
     "output_type": "stream",
     "text": [
      "100\n",
      "111\n",
      "2027\n",
      "953\n"
     ]
    }
   ],
   "source": [
    "expenese= [100,111,251,953,2027]\n",
    "print(expenese[0])   #索引從0開始\n",
    "print(expenese[1])\n",
    "print(expenese[-1])  #倒數第一個 \n",
    "print(expenese[-2])"
   ]
  },
  {
   "cell_type": "code",
   "execution_count": 3,
   "metadata": {},
   "outputs": [
    {
     "name": "stdout",
     "output_type": "stream",
     "text": [
      "java\n"
     ]
    }
   ],
   "source": [
    "my_list0= []\n",
    "my_list1= list()\n",
    "my_list2= ['python','java','c#']\n",
    "print(my_list2[1])"
   ]
  },
  {
   "cell_type": "code",
   "execution_count": 4,
   "metadata": {},
   "outputs": [
    {
     "name": "stdout",
     "output_type": "stream",
     "text": [
      "3\n",
      "6\n"
     ]
    }
   ],
   "source": [
    "my_list2= ['python','java','c#']\n",
    "print(len(my_list2))\n",
    "print(len(my_list2[0]))"
   ]
  },
  {
   "cell_type": "markdown",
   "metadata": {},
   "source": [
    "# 附加"
   ]
  },
  {
   "cell_type": "code",
   "execution_count": 5,
   "metadata": {},
   "outputs": [
    {
     "name": "stdout",
     "output_type": "stream",
     "text": [
      "['python', 'java', 'c#', 'PH']\n"
     ]
    }
   ],
   "source": [
    "my_list2= ['python','java','c#']\n",
    "my_list2.append('PH')\n",
    "print(my_list2)"
   ]
  },
  {
   "cell_type": "code",
   "execution_count": 8,
   "metadata": {},
   "outputs": [
    {
     "name": "stdout",
     "output_type": "stream",
     "text": [
      "['python', 'java', 'PH', 'c#']\n"
     ]
    }
   ],
   "source": [
    "my_list2= ['python','java','c#']\n",
    "my_list2.insert(2,'PH')\n",
    "print(my_list2)"
   ]
  },
  {
   "cell_type": "markdown",
   "metadata": {},
   "source": [
    "# 刪除"
   ]
  },
  {
   "cell_type": "code",
   "execution_count": 11,
   "metadata": {},
   "outputs": [
    {
     "name": "stdout",
     "output_type": "stream",
     "text": [
      "['java', 'c#', 'PH']\n",
      "['java', 'c#']\n",
      "[]\n"
     ]
    }
   ],
   "source": [
    "my_list2= ['python','java','c#','PH']\n",
    "my_list2.remove('python')   #刪除指定項目\n",
    "print(my_list2)\n",
    "del my_list2[-1]   #刪除指定位置\n",
    "print(my_list2)\n",
    "my_list2.clear()   #清除全部\n",
    "print(my_list2)"
   ]
  },
  {
   "cell_type": "code",
   "execution_count": 15,
   "metadata": {},
   "outputs": [
    {
     "name": "stdout",
     "output_type": "stream",
     "text": [
      "[1, 2, 1, 2, 1, 2, 1, 2, 1, 2]\n"
     ]
    }
   ],
   "source": [
    "a=[1,2]\n",
    "print(a*5)"
   ]
  },
  {
   "cell_type": "markdown",
   "metadata": {},
   "source": [
    "# list取值"
   ]
  },
  {
   "cell_type": "code",
   "execution_count": 29,
   "metadata": {},
   "outputs": [
    {
     "name": "stdout",
     "output_type": "stream",
     "text": [
      "[1, 2, 3]\n",
      "[1, 3, 5, 7, 9]\n",
      "[1, 2, 3, 4, 5, 6, 7, 8, 9]\n",
      "[1, 2, 3, 4, 5, 6, 7]\n",
      "[1, 2, 3, 4, 5, 6, 7, 8, 9]\n"
     ]
    }
   ],
   "source": [
    "a= [1,2,3,4,5,6,7,8,9]\n",
    "b=a[0:3]   #範圍取值\n",
    "print(b)\n",
    "c=a[0:9:2]   #間隔2取值\n",
    "print(c)\n",
    "d=a[0:]\n",
    "print(d)\n",
    "e=a[:7]\n",
    "print(e)\n",
    "f=a[:]\n",
    "print(f)"
   ]
  },
  {
   "cell_type": "code",
   "execution_count": 30,
   "metadata": {},
   "outputs": [
    {
     "name": "stdout",
     "output_type": "stream",
     "text": [
      "[1, 2, 3, 4, 5, 6, 7]\n",
      "1\n",
      "7\n",
      "0\n",
      "4\n",
      "[7, 6, 5, 4, 3, 2, 1]\n",
      "[1, 2, 3, 4, 5, 6, 7]\n"
     ]
    }
   ],
   "source": [
    "a= [1,2,3,4,5,6,7,8,9]\n",
    "del a[7:9]\n",
    "print(a)\n",
    "print(min(a))\n",
    "print(max(a))\n",
    "print(a.index(1))#找出1所在的第一個索引\n",
    "b=[1,0,0,1,1,1]\n",
    "print(b.count(1))\n",
    "a.reverse()#串列反轉\n",
    "print(a)\n",
    "a.sort()#串列由小到大排，被改變\n",
    "print(a)"
   ]
  },
  {
   "cell_type": "code",
   "execution_count": 32,
   "metadata": {},
   "outputs": [
    {
     "name": "stdout",
     "output_type": "stream",
     "text": [
      "[251, 395, 1111, 2027, 3953] [395, 1111, 251, 3953, 2027]\n"
     ]
    }
   ],
   "source": [
    "expenese= [395,1111,251,3953,2027]\n",
    "s=sorted(expenese)\n",
    "print(s,expenese)"
   ]
  },
  {
   "cell_type": "code",
   "execution_count": null,
   "metadata": {},
   "outputs": [],
   "source": []
  }
 ],
 "metadata": {
  "kernelspec": {
   "display_name": "Python 3",
   "language": "python",
   "name": "python3"
  },
  "language_info": {
   "codemirror_mode": {
    "name": "ipython",
    "version": 3
   },
   "file_extension": ".py",
   "mimetype": "text/x-python",
   "name": "python",
   "nbconvert_exporter": "python",
   "pygments_lexer": "ipython3",
   "version": "3.8.5"
  }
 },
 "nbformat": 4,
 "nbformat_minor": 4
}
