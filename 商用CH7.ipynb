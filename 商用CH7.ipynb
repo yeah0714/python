{
 "cells": [
  {
   "cell_type": "markdown",
   "id": "preliminary-yugoslavia",
   "metadata": {},
   "source": [
    "## Chap7 錯誤處理"
   ]
  },
  {
   "cell_type": "markdown",
   "id": "bronze-lying",
   "metadata": {},
   "source": [
    "### try:\n",
    "### except:\n",
    "### else:\n",
    "### finally:"
   ]
  },
  {
   "cell_type": "code",
   "execution_count": null,
   "id": "dental-speech",
   "metadata": {},
   "outputs": [],
   "source": [
    "a=10\n",
    "b=20\n",
    "if a<b:\n",
    "    print(n)"
   ]
  },
  {
   "cell_type": "code",
   "execution_count": null,
   "id": "cognitive-diving",
   "metadata": {},
   "outputs": [],
   "source": [
    "a=10\n",
    "b=20\n",
    "try:\n",
    "    if a<b:\n",
    "        print(n)\n",
    "except:\n",
    "    print(\"錯誤產生\")"
   ]
  },
  {
   "cell_type": "markdown",
   "id": "illegal-lending",
   "metadata": {},
   "source": [
    "## 指定錯誤類別處理"
   ]
  },
  {
   "cell_type": "code",
   "execution_count": null,
   "id": "activated-blair",
   "metadata": {},
   "outputs": [],
   "source": [
    "a=10\n",
    "b=20\n",
    "try:\n",
    "    if a<b:\n",
    "        print(n)\n",
    "except NameError as e:\n",
    "    print(\"錯誤產生, 錯誤原因：\",e)\n",
    "except ZeroDivisionError:\n",
    "    print(\"除以0錯誤\")"
   ]
  },
  {
   "cell_type": "markdown",
   "id": "capable-spice",
   "metadata": {},
   "source": [
    "## else\n",
    "沒有錯誤產生會執行的部分"
   ]
  },
  {
   "cell_type": "code",
   "execution_count": null,
   "id": "cubic-threshold",
   "metadata": {},
   "outputs": [],
   "source": [
    "a=10\n",
    "b=20\n",
    "try:\n",
    "    if a>b: #改變比較條件，讓錯誤不發生\n",
    "        print(n)\n",
    "except:\n",
    "    print(\"錯誤發生\")\n",
    "else:\n",
    "    print(\"沒有錯誤發生時會執行的部分\")"
   ]
  },
  {
   "cell_type": "code",
   "execution_count": null,
   "id": "indie-providence",
   "metadata": {},
   "outputs": [],
   "source": [
    "a=10\n",
    "b=20\n",
    "try:\n",
    "    if a>b: #改變比較條件，讓錯誤不發生\n",
    "        print(n)\n",
    "except:\n",
    "    print(\"錯誤發生\")\n",
    "else:\n",
    "    print(\"沒有錯誤發生時會執行的部分\")\n",
    "finally:\n",
    "    print(\"不管有沒有錯誤一定會執行的部分\")"
   ]
  }
 ],
 "metadata": {
  "kernelspec": {
   "display_name": "Python 3",
   "language": "python",
   "name": "python3"
  },
  "language_info": {
   "codemirror_mode": {
    "name": "ipython",
    "version": 3
   },
   "file_extension": ".py",
   "mimetype": "text/x-python",
   "name": "python",
   "nbconvert_exporter": "python",
   "pygments_lexer": "ipython3",
   "version": "3.6.13"
  }
 },
 "nbformat": 4,
 "nbformat_minor": 5
}
